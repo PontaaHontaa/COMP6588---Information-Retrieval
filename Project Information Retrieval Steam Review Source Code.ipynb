{
  "nbformat": 4,
  "nbformat_minor": 0,
  "metadata": {
    "colab": {
      "name": "Information Retrieval Sentiment Analysis.ipynb",
      "provenance": [],
      "collapsed_sections": [
        "l4Jox9-lcplv",
        "J1HQSLIzd2iV",
        "oBRHD9PPdoXE"
      ]
    },
    "kernelspec": {
      "name": "python3",
      "display_name": "Python 3"
    },
    "accelerator": "GPU"
  },
  "cells": [
    {
      "cell_type": "markdown",
      "metadata": {
        "id": "NdrAQ7LYcZ1M"
      },
      "source": [
        "#Steam Game Reviews with Sentiment Analysis"
      ]
    },
    {
      "cell_type": "code",
      "metadata": {
        "id": "pi7SBRr_nrdF",
        "colab": {
          "base_uri": "https://localhost:8080/"
        },
        "outputId": "7bf77aa5-d4b3-4367-bc79-3e14f257d6a9"
      },
      "source": [
        "import nltk\r\n",
        "nltk.download('punkt')\r\n",
        "nltk.download('wordnet')\r\n",
        "nltk.download('stopwords')\r\n",
        "import tensorflow as tf\r\n",
        "import sklearn\r\n",
        "import numpy as np\r\n",
        "import re\r\n",
        "import gensim\r\n",
        "import pandas as pd\r\n",
        "from sklearn.preprocessing import LabelEncoder\r\n",
        "from sklearn.model_selection import train_test_split"
      ],
      "execution_count": 134,
      "outputs": [
        {
          "output_type": "stream",
          "text": [
            "[nltk_data] Downloading package punkt to /root/nltk_data...\n",
            "[nltk_data]   Package punkt is already up-to-date!\n",
            "[nltk_data] Downloading package wordnet to /root/nltk_data...\n",
            "[nltk_data]   Package wordnet is already up-to-date!\n",
            "[nltk_data] Downloading package stopwords to /root/nltk_data...\n",
            "[nltk_data]   Package stopwords is already up-to-date!\n"
          ],
          "name": "stdout"
        }
      ]
    },
    {
      "cell_type": "markdown",
      "metadata": {
        "id": "l4Jox9-lcplv"
      },
      "source": [
        "##Data Preprocessing"
      ]
    },
    {
      "cell_type": "code",
      "metadata": {
        "id": "A4jkdS5xh_JJ"
      },
      "source": [
        "def preprocess(data):\r\n",
        "    res = []\r\n",
        "    lemmatizer = nltk.stem.WordNetLemmatizer() #Create the lemmatizer\r\n",
        "    stopwords = nltk.corpus.stopwords.words('english') #Create the stopwords list\r\n",
        "\r\n",
        "    for da in data:\r\n",
        "        alphabets = re.sub(\"[^a-zA-Z]\",\" \", da[0]) #Replace non-alphabetic characters into blank space using regex\r\n",
        "        words = nltk.word_tokenize(alphabets.lower()) #Tokenize the sentence and lowercase it\r\n",
        "        stopped = [i for i in words if not i in stopwords] #Removing stopwords from the tokens\r\n",
        "        lemmatized = [lemmatizer.lemmatize(i) for i in stopped] #Lemmatize the words\r\n",
        "\r\n",
        "        res.append(lemmatized)\r\n",
        "    return np.array(res)"
      ],
      "execution_count": 2,
      "outputs": []
    },
    {
      "cell_type": "code",
      "metadata": {
        "colab": {
          "base_uri": "https://localhost:8080/",
          "height": 402
        },
        "id": "7-KMYbv1iW0o",
        "outputId": "63faac3d-af22-4f52-d9ef-28fd57b3588d"
      },
      "source": [
        "dataframe = pd.read_csv('steam_reviews_edited.csv')\r\n",
        "\r\n",
        "dataframe['review'] = dataframe['review'].str.lower()\r\n",
        "dataframe['title'] = dataframe['title'].str.lower()\r\n",
        "\r\n",
        "dataframe = dataframe.dropna()\r\n",
        "dataframe = dataframe.reset_index()\r\n",
        "dataframe = dataframe.drop(columns=['index', 'date_posted', 'funny', 'helpful', 'hour_played', 'is_early_access_review'])\r\n",
        "\r\n",
        "dataframe"
      ],
      "execution_count": 3,
      "outputs": [
        {
          "output_type": "execute_result",
          "data": {
            "text/html": [
              "<div>\n",
              "<style scoped>\n",
              "    .dataframe tbody tr th:only-of-type {\n",
              "        vertical-align: middle;\n",
              "    }\n",
              "\n",
              "    .dataframe tbody tr th {\n",
              "        vertical-align: top;\n",
              "    }\n",
              "\n",
              "    .dataframe thead th {\n",
              "        text-align: right;\n",
              "    }\n",
              "</style>\n",
              "<table border=\"1\" class=\"dataframe\">\n",
              "  <thead>\n",
              "    <tr style=\"text-align: right;\">\n",
              "      <th></th>\n",
              "      <th>recommendation</th>\n",
              "      <th>review</th>\n",
              "      <th>title</th>\n",
              "    </tr>\n",
              "  </thead>\n",
              "  <tbody>\n",
              "    <tr>\n",
              "      <th>0</th>\n",
              "      <td>Recommended</td>\n",
              "      <td>&amp;gt played as german reich&amp;gt declare war on b...</td>\n",
              "      <td>expansion - hearts of iron iv: man the guns</td>\n",
              "    </tr>\n",
              "    <tr>\n",
              "      <th>1</th>\n",
              "      <td>Recommended</td>\n",
              "      <td>yes.</td>\n",
              "      <td>expansion - hearts of iron iv: man the guns</td>\n",
              "    </tr>\n",
              "    <tr>\n",
              "      <th>2</th>\n",
              "      <td>Recommended</td>\n",
              "      <td>very good game although a bit overpriced in my...</td>\n",
              "      <td>expansion - hearts of iron iv: man the guns</td>\n",
              "    </tr>\n",
              "    <tr>\n",
              "      <th>3</th>\n",
              "      <td>Recommended</td>\n",
              "      <td>out of all the reviews i wrote this one is pro...</td>\n",
              "      <td>dead by daylight</td>\n",
              "    </tr>\n",
              "    <tr>\n",
              "      <th>4</th>\n",
              "      <td>Recommended</td>\n",
              "      <td>disclaimer i survivor main. i play games for f...</td>\n",
              "      <td>dead by daylight</td>\n",
              "    </tr>\n",
              "    <tr>\n",
              "      <th>...</th>\n",
              "      <td>...</td>\n",
              "      <td>...</td>\n",
              "      <td>...</td>\n",
              "    </tr>\n",
              "    <tr>\n",
              "      <th>7457</th>\n",
              "      <td>Recommended</td>\n",
              "      <td>your flesh will rot and decay.steel is immorta...</td>\n",
              "      <td>warhammer 40,000: mechanicus</td>\n",
              "    </tr>\n",
              "    <tr>\n",
              "      <th>7458</th>\n",
              "      <td>Recommended</td>\n",
              "      <td>domini and dominae i believe what we are deali...</td>\n",
              "      <td>warhammer 40,000: mechanicus</td>\n",
              "    </tr>\n",
              "    <tr>\n",
              "      <th>7459</th>\n",
              "      <td>Recommended</td>\n",
              "      <td>first off if you like x com style of games you...</td>\n",
              "      <td>warhammer 40,000: mechanicus</td>\n",
              "    </tr>\n",
              "    <tr>\n",
              "      <th>7460</th>\n",
              "      <td>Recommended</td>\n",
              "      <td>as a disclaimer i'm an admech player on the ta...</td>\n",
              "      <td>warhammer 40,000: mechanicus</td>\n",
              "    </tr>\n",
              "    <tr>\n",
              "      <th>7461</th>\n",
              "      <td>Recommended</td>\n",
              "      <td>don't listen to people who claim it's the game...</td>\n",
              "      <td>warhammer 40,000: mechanicus</td>\n",
              "    </tr>\n",
              "  </tbody>\n",
              "</table>\n",
              "<p>7462 rows × 3 columns</p>\n",
              "</div>"
            ],
            "text/plain": [
              "     recommendation  ...                                        title\n",
              "0       Recommended  ...  expansion - hearts of iron iv: man the guns\n",
              "1       Recommended  ...  expansion - hearts of iron iv: man the guns\n",
              "2       Recommended  ...  expansion - hearts of iron iv: man the guns\n",
              "3       Recommended  ...                             dead by daylight\n",
              "4       Recommended  ...                             dead by daylight\n",
              "...             ...  ...                                          ...\n",
              "7457    Recommended  ...                 warhammer 40,000: mechanicus\n",
              "7458    Recommended  ...                 warhammer 40,000: mechanicus\n",
              "7459    Recommended  ...                 warhammer 40,000: mechanicus\n",
              "7460    Recommended  ...                 warhammer 40,000: mechanicus\n",
              "7461    Recommended  ...                 warhammer 40,000: mechanicus\n",
              "\n",
              "[7462 rows x 3 columns]"
            ]
          },
          "metadata": {
            "tags": []
          },
          "execution_count": 3
        }
      ]
    },
    {
      "cell_type": "markdown",
      "metadata": {
        "id": "J1HQSLIzd2iV"
      },
      "source": [
        "##Semantic Analyzer"
      ]
    },
    {
      "cell_type": "markdown",
      "metadata": {
        "id": "Ixmfl1iPeFHw"
      },
      "source": [
        "###Preprocessing data for BPNN"
      ]
    },
    {
      "cell_type": "code",
      "metadata": {
        "colab": {
          "base_uri": "https://localhost:8080/"
        },
        "id": "EC8ttv559aad",
        "outputId": "558d63c1-81f3-4315-8c46-615179580315"
      },
      "source": [
        "total_rec = 0\r\n",
        "total_notrec = 0\r\n",
        "for x in dataframe['recommendation']:\r\n",
        "    if x == 'Recommended':\r\n",
        "        total_rec+= 1\r\n",
        "    else:\r\n",
        "        total_notrec+= 1\r\n",
        "        \r\n",
        "print(total_rec)\r\n",
        "print(total_notrec)"
      ],
      "execution_count": 4,
      "outputs": [
        {
          "output_type": "stream",
          "text": [
            "5318\n",
            "2144\n"
          ],
          "name": "stdout"
        }
      ]
    },
    {
      "cell_type": "code",
      "metadata": {
        "id": "GDNIW5kj-mzp"
      },
      "source": [
        "#Data unbalanced, getting the maximum balanced amount of data possible.\r\n",
        "rec = 0\r\n",
        "notrec = 0\r\n",
        "x_data = []\r\n",
        "y_data = []\r\n",
        "for index, row in dataframe.iterrows():\r\n",
        "    if row['recommendation'] == 'Recommended':\r\n",
        "        if rec == min(total_rec, total_notrec):\r\n",
        "            continue\r\n",
        "        rec+= 1\r\n",
        "    else:\r\n",
        "        if notrec == min(total_rec, total_notrec):\r\n",
        "            continue\r\n",
        "        notrec+= 1\r\n",
        "\r\n",
        "    x_data.append(row['review'])\r\n",
        "    y_data.append(row['recommendation'])\r\n",
        "\r\n",
        "x_data = np.array(x_data)\r\n",
        "y_data = np.array(y_data)"
      ],
      "execution_count": 5,
      "outputs": []
    },
    {
      "cell_type": "code",
      "metadata": {
        "colab": {
          "base_uri": "https://localhost:8080/"
        },
        "id": "dgPOdcBS_Ijr",
        "outputId": "ec25a52c-0055-4291-ff0f-e9eec176ab3a"
      },
      "source": [
        "x_data"
      ],
      "execution_count": 6,
      "outputs": [
        {
          "output_type": "execute_result",
          "data": {
            "text/plain": [
              "array([\"&gt played as german reich&gt declare war on belgium&gt can't break belgium so go through france&gt capitulate france in order to get to belgium&gt get true blitzkrieg achievementthis game is dad\",\n",
              "       'yes.',\n",
              "       \"very good game although a bit overpriced in my opinion. i'd prefer playing the game with mods (historical accuracy so on) although the vanilla version is good aswell. 7/10\",\n",
              "       ...,\n",
              "       'the game is fun but they removed all the glitches that made it \"fun\". if they don\\'t put them back i\\'m not changing my mind',\n",
              "       'linux support was dropped with no warning i would not trust these developers to any promises. the game itself is quite fun with a friend although i can no longer play with my brother on windows. i also hit some game breaking bugs which required a game restart.',\n",
              "       'amazingly fun game to play if you have a friend to play with you. main issue i have with the game is its lack of content. it only took us 5 hours to beat all the levels (including the halloween 2018 level) in the two player mode. with a couple more levels or a whole custom level editor it would be a solid \"recommended\" game for me but right now it feels like unfinished or something. maybe get it on sale.'],\n",
              "      dtype='<U8000')"
            ]
          },
          "metadata": {
            "tags": []
          },
          "execution_count": 6
        }
      ]
    },
    {
      "cell_type": "code",
      "metadata": {
        "colab": {
          "base_uri": "https://localhost:8080/"
        },
        "id": "BkUI7aFI_X5p",
        "outputId": "3a108c28-1251-4c1d-b347-e2b1b615c86d"
      },
      "source": [
        "x_data = x_data.reshape(-1, 1)\r\n",
        "print(x_data.shape)\r\n",
        "print(y_data.shape)"
      ],
      "execution_count": 7,
      "outputs": [
        {
          "output_type": "stream",
          "text": [
            "(4288, 1)\n",
            "(4288,)\n"
          ],
          "name": "stdout"
        }
      ]
    },
    {
      "cell_type": "code",
      "metadata": {
        "colab": {
          "base_uri": "https://localhost:8080/"
        },
        "id": "aYoIrDT3keeR",
        "outputId": "15a20104-6bef-4293-98de-9efd348def8e"
      },
      "source": [
        "x_data = preprocess(x_data)\r\n",
        "\r\n",
        "encoder = LabelEncoder()\r\n",
        "y_data = encoder.fit_transform(y_data)\r\n",
        "\r\n",
        "y_data = y_data.reshape(-1, 1)\r\n",
        "\r\n",
        "print(x_data.shape)\r\n",
        "print(y_data.shape)"
      ],
      "execution_count": 8,
      "outputs": [
        {
          "output_type": "stream",
          "text": [
            "(4288,)\n",
            "(4288, 1)\n"
          ],
          "name": "stdout"
        },
        {
          "output_type": "stream",
          "text": [
            "/usr/local/lib/python3.6/dist-packages/ipykernel_launcher.py:13: VisibleDeprecationWarning: Creating an ndarray from ragged nested sequences (which is a list-or-tuple of lists-or-tuples-or ndarrays with different lengths or shapes) is deprecated. If you meant to do this, you must specify 'dtype=object' when creating the ndarray\n",
            "  del sys.path[0]\n"
          ],
          "name": "stderr"
        }
      ]
    },
    {
      "cell_type": "code",
      "metadata": {
        "colab": {
          "base_uri": "https://localhost:8080/"
        },
        "id": "ChFI1T40ns0r",
        "outputId": "588e598f-2116-438f-e975-0bb14375d67f"
      },
      "source": [
        "x_data"
      ],
      "execution_count": 9,
      "outputs": [
        {
          "output_type": "execute_result",
          "data": {
            "text/plain": [
              "array([list(['gt', 'played', 'german', 'reich', 'gt', 'declare', 'war', 'belgium', 'gt', 'break', 'belgium', 'go', 'france', 'gt', 'capitulate', 'france', 'order', 'get', 'belgium', 'gt', 'get', 'true', 'blitzkrieg', 'achievementthis', 'game', 'dad']),\n",
              "       list(['yes']),\n",
              "       list(['good', 'game', 'although', 'bit', 'overpriced', 'opinion', 'prefer', 'playing', 'game', 'mod', 'historical', 'accuracy', 'although', 'vanilla', 'version', 'good', 'aswell']),\n",
              "       ...,\n",
              "       list(['game', 'fun', 'removed', 'glitch', 'made', 'fun', 'put', 'back', 'changing', 'mind']),\n",
              "       list(['linux', 'support', 'dropped', 'warning', 'would', 'trust', 'developer', 'promise', 'game', 'quite', 'fun', 'friend', 'although', 'longer', 'play', 'brother', 'window', 'also', 'hit', 'game', 'breaking', 'bug', 'required', 'game', 'restart']),\n",
              "       list(['amazingly', 'fun', 'game', 'play', 'friend', 'play', 'main', 'issue', 'game', 'lack', 'content', 'took', 'u', 'hour', 'beat', 'level', 'including', 'halloween', 'level', 'two', 'player', 'mode', 'couple', 'level', 'whole', 'custom', 'level', 'editor', 'would', 'solid', 'recommended', 'game', 'right', 'feel', 'like', 'unfinished', 'something', 'maybe', 'get', 'sale'])],\n",
              "      dtype=object)"
            ]
          },
          "metadata": {
            "tags": []
          },
          "execution_count": 9
        }
      ]
    },
    {
      "cell_type": "code",
      "metadata": {
        "colab": {
          "base_uri": "https://localhost:8080/"
        },
        "id": "g63WLR_YoBJs",
        "outputId": "6c1b384f-e46b-45a3-a4ec-8887a56d116d"
      },
      "source": [
        "y_data"
      ],
      "execution_count": 10,
      "outputs": [
        {
          "output_type": "execute_result",
          "data": {
            "text/plain": [
              "array([[1],\n",
              "       [1],\n",
              "       [1],\n",
              "       ...,\n",
              "       [0],\n",
              "       [0],\n",
              "       [0]])"
            ]
          },
          "metadata": {
            "tags": []
          },
          "execution_count": 10
        }
      ]
    },
    {
      "cell_type": "code",
      "metadata": {
        "id": "z7HY3ADYoCAu"
      },
      "source": [
        "x_train_clean, x_test_clean, y_train, y_test = train_test_split(x_data, y_data, test_size=0.2)"
      ],
      "execution_count": 11,
      "outputs": []
    },
    {
      "cell_type": "markdown",
      "metadata": {
        "id": "x_vsXE_yeNTt"
      },
      "source": [
        "###Getting Word2Vec word embeddings matrix"
      ]
    },
    {
      "cell_type": "code",
      "metadata": {
        "colab": {
          "base_uri": "https://localhost:8080/"
        },
        "id": "sKTO9qcRoQeA",
        "outputId": "a97de556-e25b-4e44-8dc4-6903a2062cdd"
      },
      "source": [
        "#Word2Vec with CBOW algorithm\r\n",
        "EMBEDDING_DIM = 200 #Vector size of the words' representation\r\n",
        "word2vec = gensim.models.Word2Vec(x_train_clean, min_count=1, size=EMBEDDING_DIM, window=5)\r\n",
        "vocab_size = len(word2vec.wv.vocab) #Counting the number of unique words\r\n",
        "print(vocab_size)"
      ],
      "execution_count": 12,
      "outputs": [
        {
          "output_type": "stream",
          "text": [
            "12998\n"
          ],
          "name": "stdout"
        }
      ]
    },
    {
      "cell_type": "code",
      "metadata": {
        "id": "HsWnQ-V4psli"
      },
      "source": [
        "embedding_matrix = np.zeros((vocab_size+1, EMBEDDING_DIM)) #Matrix shape is (Number of unique words+1 x word embedding dimension) the +1 is for the empty word\r\n",
        "\r\n",
        "for word, i in word_index.items():\r\n",
        "    embedding_vector = word2vec.wv.word_vec(word) #Retrieve the word vector\r\n",
        "    embedding_matrix[i] = embedding_vector #i-th Embedding matrix value = embedding for word represented by number i in the word index dictionary"
      ],
      "execution_count": 15,
      "outputs": []
    },
    {
      "cell_type": "code",
      "metadata": {
        "colab": {
          "base_uri": "https://localhost:8080/"
        },
        "id": "r0yOAZP3pvTS",
        "outputId": "45254e7c-63ef-49d3-f3b4-2c75fb1fdb6c"
      },
      "source": [
        "embedding_matrix.shape"
      ],
      "execution_count": 16,
      "outputs": [
        {
          "output_type": "execute_result",
          "data": {
            "text/plain": [
              "(12999, 200)"
            ]
          },
          "metadata": {
            "tags": []
          },
          "execution_count": 16
        }
      ]
    },
    {
      "cell_type": "markdown",
      "metadata": {
        "id": "ZcLb5RxHe3DH"
      },
      "source": [
        "###Prepare data for BPNN"
      ]
    },
    {
      "cell_type": "code",
      "metadata": {
        "colab": {
          "base_uri": "https://localhost:8080/"
        },
        "id": "d20rsLKZoieK",
        "outputId": "89323ee1-fd92-4936-e574-fe19eaebc745"
      },
      "source": [
        "#Getting maximum length of tokens in one data.\r\n",
        "maxlen = 0\r\n",
        "\r\n",
        "for sent in x_train_clean:\r\n",
        "    if maxlen < len(sent):\r\n",
        "        maxlen = len(sent)\r\n",
        "\r\n",
        "print(maxlen)"
      ],
      "execution_count": 13,
      "outputs": [
        {
          "output_type": "stream",
          "text": [
            "1778\n"
          ],
          "name": "stdout"
        }
      ]
    },
    {
      "cell_type": "code",
      "metadata": {
        "id": "eyigdAUHotuC"
      },
      "source": [
        "tokenizer = tf.keras.preprocessing.text.Tokenizer(filters='', lower=False, split='') #Create the tokenizer\r\n",
        "tokenizer.fit_on_texts(x_train_clean) #Fit the tokenizer on training data\r\n",
        "\r\n",
        "x_train_clean = tokenizer.texts_to_sequences(x_train_clean) #Transform training data\r\n",
        "x_test_clean = tokenizer.texts_to_sequences(x_test_clean) #Transform testing data\r\n",
        "word_index = tokenizer.word_index #Save the word dictionary"
      ],
      "execution_count": 14,
      "outputs": []
    },
    {
      "cell_type": "code",
      "metadata": {
        "id": "oc2Eml5wpxya"
      },
      "source": [
        "#Pad missing data with zeroes\r\n",
        "x_train_clean = tf.keras.preprocessing.sequence.pad_sequences(x_train_clean, maxlen=maxlen, padding='pre', truncating='pre')\r\n",
        "x_test_clean = tf.keras.preprocessing.sequence.pad_sequences(x_test_clean, maxlen=maxlen, padding='pre', truncating='pre')"
      ],
      "execution_count": 17,
      "outputs": []
    },
    {
      "cell_type": "markdown",
      "metadata": {
        "id": "XlZbbU_yfu_e"
      },
      "source": [
        "###Model Training and Evaluation"
      ]
    },
    {
      "cell_type": "code",
      "metadata": {
        "colab": {
          "base_uri": "https://localhost:8080/"
        },
        "id": "seJd1yZVp0b8",
        "outputId": "1d02c39e-8967-46f5-c8bd-f496afac175d"
      },
      "source": [
        "#Create the model\r\n",
        "model = tf.keras.models.Sequential() \r\n",
        "model.add(tf.keras.layers.Embedding(input_dim=vocab_size+1, #Input dimension = Number of unique words+1\r\n",
        "                                    output_dim=EMBEDDING_DIM, #Size of the word embeddings\r\n",
        "                                    input_length=maxlen, #Length of the input\r\n",
        "                                    embeddings_initializer=tf.keras.initializers.Constant(embedding_matrix), #Use the pre-trained Word2Vec word embeddings as constant value\r\n",
        "                                    trainable=True)) #Define the weights as untrainable (constant value)\r\n",
        "\r\n",
        "model.add(tf.keras.layers.BatchNormalization()) #Batch Normalization\r\n",
        "model.add(tf.keras.layers.Flatten()) #Flatten the output from the layer before into 1 dimensional\r\n",
        "\r\n",
        "model.add(tf.keras.layers.Dense(18, activation='relu')) #Fully-connected hidden layer\r\n",
        "model.add(tf.keras.layers.BatchNormalization()) #Batch Normalization\r\n",
        "\r\n",
        "model.add(tf.keras.layers.Dense(6, activation='relu')) #Fully-connected hidden layer\r\n",
        "model.add(tf.keras.layers.BatchNormalization()) #Batch Normalization\r\n",
        "\r\n",
        "model.add(tf.keras.layers.Dense(1, activation='sigmoid')) #Fully-connected output layer\r\n",
        "\r\n",
        "model.summary() #Print the model's summary"
      ],
      "execution_count": 95,
      "outputs": [
        {
          "output_type": "stream",
          "text": [
            "Model: \"sequential_4\"\n",
            "_________________________________________________________________\n",
            "Layer (type)                 Output Shape              Param #   \n",
            "=================================================================\n",
            "embedding_4 (Embedding)      (None, 1778, 200)         2599800   \n",
            "_________________________________________________________________\n",
            "batch_normalization_12 (Batc (None, 1778, 200)         800       \n",
            "_________________________________________________________________\n",
            "flatten_4 (Flatten)          (None, 355600)            0         \n",
            "_________________________________________________________________\n",
            "dense_12 (Dense)             (None, 18)                6400818   \n",
            "_________________________________________________________________\n",
            "batch_normalization_13 (Batc (None, 18)                72        \n",
            "_________________________________________________________________\n",
            "dense_13 (Dense)             (None, 6)                 114       \n",
            "_________________________________________________________________\n",
            "batch_normalization_14 (Batc (None, 6)                 24        \n",
            "_________________________________________________________________\n",
            "dense_14 (Dense)             (None, 1)                 7         \n",
            "=================================================================\n",
            "Total params: 9,001,635\n",
            "Trainable params: 9,001,187\n",
            "Non-trainable params: 448\n",
            "_________________________________________________________________\n"
          ],
          "name": "stdout"
        }
      ]
    },
    {
      "cell_type": "code",
      "metadata": {
        "id": "_kJTUf_3p5Ff"
      },
      "source": [
        "#Compile the model\r\n",
        "optimizer = tf.keras.optimizers.Adam(learning_rate=0.01)\r\n",
        "model.compile(optimizer='adam', #Adam Optimizer\r\n",
        "              loss='binary_crossentropy', #Binary Crossentropy loss function\r\n",
        "              metrics=['binary_accuracy', tf.keras.metrics.Precision(), tf.keras.metrics.Recall()]) #Binary Accuracy, Precision, and Recall as the metrics"
      ],
      "execution_count": 96,
      "outputs": []
    },
    {
      "cell_type": "code",
      "metadata": {
        "colab": {
          "base_uri": "https://localhost:8080/"
        },
        "id": "RAxS_OH_qFnR",
        "outputId": "673a8a9d-8a45-4fcb-c80c-6f14e12aa0ac"
      },
      "source": [
        "#Train the model\r\n",
        "history = model.fit(x_train_clean, y_train, epochs=10, verbose=2, validation_split=0.1)"
      ],
      "execution_count": 97,
      "outputs": [
        {
          "output_type": "stream",
          "text": [
            "Epoch 1/10\n",
            "97/97 - 7s - loss: 0.7008 - binary_accuracy: 0.5611 - precision_4: 0.5462 - recall_4: 0.6344 - val_loss: 0.7926 - val_binary_accuracy: 0.4665 - val_precision_4: 0.0000e+00 - val_recall_4: 0.0000e+00\n",
            "Epoch 2/10\n",
            "97/97 - 5s - loss: 0.6693 - binary_accuracy: 0.5905 - precision_4: 0.5805 - recall_4: 0.6034 - val_loss: 0.9401 - val_binary_accuracy: 0.4665 - val_precision_4: 0.0000e+00 - val_recall_4: 0.0000e+00\n",
            "Epoch 3/10\n",
            "97/97 - 5s - loss: 0.5218 - binary_accuracy: 0.7619 - precision_4: 0.7254 - recall_4: 0.8300 - val_loss: 0.7768 - val_binary_accuracy: 0.4694 - val_precision_4: 0.6667 - val_recall_4: 0.0109\n",
            "Epoch 4/10\n",
            "97/97 - 5s - loss: 0.3266 - binary_accuracy: 0.8847 - precision_4: 0.8471 - recall_4: 0.9341 - val_loss: 0.7093 - val_binary_accuracy: 0.4752 - val_precision_4: 0.6000 - val_recall_4: 0.0492\n",
            "Epoch 5/10\n",
            "97/97 - 5s - loss: 0.2168 - binary_accuracy: 0.9313 - precision_4: 0.9128 - recall_4: 0.9513 - val_loss: 0.6842 - val_binary_accuracy: 0.6093 - val_precision_4: 0.5939 - val_recall_4: 0.8470\n",
            "Epoch 6/10\n",
            "97/97 - 5s - loss: 0.1371 - binary_accuracy: 0.9647 - precision_4: 0.9542 - recall_4: 0.9750 - val_loss: 0.6922 - val_binary_accuracy: 0.5423 - val_precision_4: 0.5387 - val_recall_4: 0.9891\n",
            "Epoch 7/10\n",
            "97/97 - 5s - loss: 0.0938 - binary_accuracy: 0.9806 - precision_4: 0.9777 - recall_4: 0.9829 - val_loss: 0.6896 - val_binary_accuracy: 0.5656 - val_precision_4: 0.5521 - val_recall_4: 0.9836\n",
            "Epoch 8/10\n",
            "97/97 - 5s - loss: 0.0666 - binary_accuracy: 0.9822 - precision_4: 0.9803 - recall_4: 0.9835 - val_loss: 0.4623 - val_binary_accuracy: 0.7813 - val_precision_4: 0.8462 - val_recall_4: 0.7213\n",
            "Epoch 9/10\n",
            "97/97 - 5s - loss: 0.0506 - binary_accuracy: 0.9883 - precision_4: 0.9856 - recall_4: 0.9908 - val_loss: 1.3754 - val_binary_accuracy: 0.5656 - val_precision_4: 0.8696 - val_recall_4: 0.2186\n",
            "Epoch 10/10\n",
            "97/97 - 5s - loss: 0.0478 - binary_accuracy: 0.9896 - precision_4: 0.9875 - recall_4: 0.9914 - val_loss: 0.4669 - val_binary_accuracy: 0.8047 - val_precision_4: 0.8494 - val_recall_4: 0.7705\n"
          ],
          "name": "stdout"
        }
      ]
    },
    {
      "cell_type": "code",
      "metadata": {
        "colab": {
          "base_uri": "https://localhost:8080/"
        },
        "id": "omWw4Wa9qzEL",
        "outputId": "0033ef92-2d82-4302-fdb5-d0bc57669d16"
      },
      "source": [
        "#Model's accuracy on testing data\r\n",
        "model.evaluate(x_test_clean, y_test)"
      ],
      "execution_count": 184,
      "outputs": [
        {
          "output_type": "stream",
          "text": [
            "27/27 [==============================] - 0s 14ms/step - loss: 0.4701 - binary_accuracy: 0.7855 - precision_4: 0.8329 - recall_4: 0.7314\n"
          ],
          "name": "stdout"
        },
        {
          "output_type": "execute_result",
          "data": {
            "text/plain": [
              "[0.4700580835342407,\n",
              " 0.7855477929115295,\n",
              " 0.8329048752784729,\n",
              " 0.7313769459724426]"
            ]
          },
          "metadata": {
            "tags": []
          },
          "execution_count": 184
        }
      ]
    },
    {
      "cell_type": "code",
      "metadata": {
        "colab": {
          "base_uri": "https://localhost:8080/",
          "height": 513
        },
        "id": "pHE2HvB6Kb8G",
        "outputId": "53154aae-0fcf-4107-fca6-c01651534223"
      },
      "source": [
        "#Create confusion matrix\r\n",
        "from sklearn.metrics import confusion_matrix\r\n",
        "import matplotlib.pyplot as plt\r\n",
        "import seaborn as sns\r\n",
        "\r\n",
        "predictions = (model.predict(x_test_clean) > 0.5).astype(\"int64\")\r\n",
        "test_labels = y_test\r\n",
        "\r\n",
        "conf_matrix = confusion_matrix(test_labels, predictions, normalize='true')\r\n",
        "\r\n",
        "class_names = encoder.classes_\r\n",
        "plt.figure(figsize = (8,8))\r\n",
        "graph = plt.subplot()\r\n",
        "sns.heatmap(conf_matrix, annot=True, ax=graph, fmt='.3g')\r\n",
        "\r\n",
        "graph.set_title('Confusion Matrix')\r\n",
        "graph.set_xlabel('Prediction Label')\r\n",
        "graph.set_ylabel('Actual Label')\r\n",
        "graph.xaxis.set_ticklabels(class_names)\r\n",
        "graph.yaxis.set_ticklabels(class_names)\r\n",
        "plt.show()"
      ],
      "execution_count": 129,
      "outputs": [
        {
          "output_type": "display_data",
          "data": {
            "image/png": "[encoded data removed]",
            "text/plain": [
              "<Figure size 576x576 with 2 Axes>"
            ]
          },
          "metadata": {
            "tags": [],
            "needs_background": "light"
          }
        }
      ]
    },
    {
      "cell_type": "markdown",
      "metadata": {
        "id": "oBRHD9PPdoXE"
      },
      "source": [
        "##TF-IDF Vectorizer"
      ]
    },
    {
      "cell_type": "markdown",
      "metadata": {
        "id": "zHMafc44gd-H"
      },
      "source": [
        "###Preprocessing data for TF-IDF Vectorizer"
      ]
    },
    {
      "cell_type": "code",
      "metadata": {
        "colab": {
          "base_uri": "https://localhost:8080/"
        },
        "id": "nQe9DNv-T4fJ",
        "outputId": "c32caeaf-466d-4488-9ebf-6c3640247783"
      },
      "source": [
        "reviews = np.array(dataframe[['review']])\r\n",
        "reviews.reshape(-1, 1)"
      ],
      "execution_count": 130,
      "outputs": [
        {
          "output_type": "execute_result",
          "data": {
            "text/plain": [
              "array([[\"&gt played as german reich&gt declare war on belgium&gt can't break belgium so go through france&gt capitulate france in order to get to belgium&gt get true blitzkrieg achievementthis game is dad\"],\n",
              "       ['yes.'],\n",
              "       [\"very good game although a bit overpriced in my opinion. i'd prefer playing the game with mods (historical accuracy so on) although the vanilla version is good aswell. 7/10\"],\n",
              "       ...,\n",
              "       ['first off if you like x com style of games you will most likely like this game. if you like warhammer 40k then this game will also appeal to you. this is one of the best warhammer 40k games i have ever played and the unit management upgrades combat is fantastic.one thing to note the campaign is relatively short and i beat it in 17 hours unlocking 17/22 achievements in my first play through. the game is relatively easy if you are used to x com style games even the hardest settings are easy and i was able to kill the final 3 bosses in just 3 rounds in the game with the final boss with 1 character in 1 round. still recommend the game just immersive fun just not long enough. i would love to see expansion packs in the future.'],\n",
              "       [\"as a disclaimer i'm an admech player on the tabletop so this review is going to be completely biased. a lot of games come out in the 40k universe and there are very few that are actually worth the price. by the grace of the omnissiah 40k mechanicus is one of those games that every 40k fan out there should support. its not without its issues notably the game gets too easy once your tech priests are half way equiped and you can field proper skitarii troops also the necron ai at times is less than intelligent.there also doesn't seem to be any method of reducing the awakeness gauge or an endless mode so once you beat the main game its pretty much over (i'd advise keeping a backup of your save just incase dlc or something gets added).all that being said mechanicus is still a lot of fun. at its core its a rather simple but addictive turn based tactics game. i consider it sort of xcom lite. cover is pretty much just line of sight (which lets you cheese pretty bad) and the maps aren't very big but they get the job done. once you start understanding what each troop unit can do what combos of tech priest upgrades and equipment work well together you'll be blasting through the necron tombs with ease. ultimately what sold me was the ability to play as the admech. i'm so used to the space marines taking center stage with everything that its so refreshing to see a 40k game that does not have an ultra smurf running around. bottom line is that if you like tactics games (think xcom) you like 40k and you want a game you can just sit down and enjoy mechanicus is totally for you. if not still buy it cause i want more admech stuff and this is great advertisment. now if only i could convince the devs and gw to release a kill team or necromunda game...edited cause i cannot english.\"],\n",
              "       [\"don't listen to people who claim it's the game only for adeptus mechanicus lore fans i had zero knowledge about admech (coming from that minority who prefers warhammer fantasy battles to 40k) and i'm really enjoying it. it's fun has soul and spirit is not overcomplicated or frustrating.+ great atmosphere (especially banter and disputes between characters who give missions and track the progress of your squad during missions)+ solid tactical game with some good ideas+ good customization options for your techpriests+ the story is interesting enough the dialogues are fun+ nice ost really helps to immerse only one enemy faction (necrons). but it's the matter of games workshop licence and not really developer's fault. besides necrons are the most fitting xenos enemy for admech lorewise. once you level up and customize your techpriests well enough the game becomes much easier. it's still fun for me but might not please those who want more challenge. level mission maps seem to be scripted and static not randomly created (i might be wrong though)\"]],\n",
              "      dtype=object)"
            ]
          },
          "metadata": {
            "tags": []
          },
          "execution_count": 130
        }
      ]
    },
    {
      "cell_type": "code",
      "metadata": {
        "colab": {
          "base_uri": "https://localhost:8080/"
        },
        "id": "CVa9i8ZLT6dQ",
        "outputId": "4a405a23-c514-4fb6-9f92-9d31e2ed2a72"
      },
      "source": [
        "reviewPre = preprocess(reviews)"
      ],
      "execution_count": 131,
      "outputs": [
        {
          "output_type": "stream",
          "text": [
            "/usr/local/lib/python3.6/dist-packages/ipykernel_launcher.py:13: VisibleDeprecationWarning: Creating an ndarray from ragged nested sequences (which is a list-or-tuple of lists-or-tuples-or ndarrays with different lengths or shapes) is deprecated. If you meant to do this, you must specify 'dtype=object' when creating the ndarray\n",
            "  del sys.path[0]\n"
          ],
          "name": "stderr"
        }
      ]
    },
    {
      "cell_type": "markdown",
      "metadata": {
        "id": "nr9Itkzwgl1V"
      },
      "source": [
        "###Create the Vectorizer model"
      ]
    },
    {
      "cell_type": "code",
      "metadata": {
        "id": "ObF6WjCJUNxI"
      },
      "source": [
        "vectorizer = sklearn.feature_extraction.text.TfidfVectorizer(smooth_idf=True, lowercase=False)\r\n",
        "\r\n",
        "vectors = vectorizer.fit_transform([str(i) for i in reviewPre])\r\n",
        "\r\n",
        "feature_names = vectorizer.get_feature_names()\r\n",
        "dense = vectors.todense()\r\n",
        "denselist = dense.tolist()\r\n",
        "tfidf = pd.DataFrame(denselist, columns=feature_names)"
      ],
      "execution_count": 135,
      "outputs": []
    },
    {
      "cell_type": "markdown",
      "metadata": {
        "id": "TLG4pvtkgw8d"
      },
      "source": [
        "##Testing with query words"
      ]
    },
    {
      "cell_type": "code",
      "metadata": {
        "id": "lsRAO5V-VWFo"
      },
      "source": [
        "def predict_query(query_word):\r\n",
        "    #Transforming query word suitable for the Semantic Analyzer\r\n",
        "    processed = preprocess(np.array([[query_word]])).tolist()\r\n",
        "    processed = tokenizer.texts_to_sequences(processed)\r\n",
        "    processed = tf.keras.preprocessing.sequence.pad_sequences(processed, maxlen=maxlen, padding='pre', truncating='pre')\r\n",
        "\r\n",
        "    #Predict the query word's semantic\r\n",
        "    prediction = (model.predict(processed) > 0.5).astype('int32')\r\n",
        "    prediction = encoder.inverse_transform(prediction)\r\n",
        "\r\n",
        "    return prediction\r\n",
        "\r\n",
        "def get_review(query1, rank):\r\n",
        "    query1 = query1.lower()\r\n",
        "    #Transform the query into TF-IDF vector\r\n",
        "    query1_vector = vectorizer.transform([query1])\r\n",
        "\r\n",
        "    #Cosine similarity as TF-IDF metric\r\n",
        "    query1_similarity_vector = sklearn.metrics.pairwise.cosine_similarity(vectors, query1_vector).reshape(-1)\r\n",
        "    room = 0\r\n",
        "    query1_tfidf_result = []\r\n",
        "\r\n",
        "    for i in query1_similarity_vector:\r\n",
        "        room += 1\r\n",
        "        query1_tfidf_result.append([i, room])\r\n",
        "\r\n",
        "    query1_tfidf_result.sort(reverse=True)\r\n",
        "    prediction = predict_query(query1)\r\n",
        "    \r\n",
        "    print(f\"Result: {prediction}\\n\")\r\n",
        "\r\n",
        "    for i in range(rank):\r\n",
        "        print(\"Score: \" + str(query1_tfidf_result[i][0]))\r\n",
        "        print(\"Game: \" + dataframe['title'][query1_tfidf_result[i][1]-1])\r\n",
        "        print(\"Review: \", end='')\r\n",
        "        print(reviews[query1_tfidf_result[i][1]-1])\r\n",
        "        print()"
      ],
      "execution_count": 181,
      "outputs": []
    },
    {
      "cell_type": "code",
      "metadata": {
        "colab": {
          "base_uri": "https://localhost:8080/"
        },
        "id": "RtkZ2Cw7T8iK",
        "outputId": "0ee91978-18cd-48c0-c839-d55cfc748dd5"
      },
      "source": [
        "print('Search Bar: ', end='')\r\n",
        "query1 = input()\r\n",
        "#Getting top 5 query results\r\n",
        "get_review(query1, 5)"
      ],
      "execution_count": 203,
      "outputs": [
        {
          "output_type": "stream",
          "text": [
            "Search Bar: i am addicted to this game\n",
            "Result: ['Recommended']\n",
            "\n",
            "Score: 0.92698328046499\n",
            "Game: dead by daylight\n",
            "Review: ['very good game addicted!']\n",
            "\n",
            "Score: 0.5245009536675971\n",
            "Game: subnautica\n",
            "Review: ['the best survival game i have ever played. beware you will get addicted']\n",
            "\n",
            "Score: 0.4294174610229347\n",
            "Game: don't starve together\n",
            "Review: ['this game along with the single player variant has kept me addicted for longer than any other game before it.i absolutely love it.']\n",
            "\n",
            "Score: 0.39227797238253725\n",
            "Game: slay the spire\n",
            "Review: ['this is the perfect rogue like rng based card game ever ! just buy it you will definetly get addicted.']\n",
            "\n",
            "Score: 0.37922922925539215\n",
            "Game: rocket league®\n",
            "Review: [\"i'm addicted to this game. seriously i cannot recommend it enough. it requires skills yet even if you're a newbie (which is still my case) you can have a lot of fun!\"]\n",
            "\n"
          ],
          "name": "stdout"
        },
        {
          "output_type": "stream",
          "text": [
            "/usr/local/lib/python3.6/dist-packages/sklearn/preprocessing/_label.py:289: DataConversionWarning: A column-vector y was passed when a 1d array was expected. Please change the shape of y to (n_samples, ), for example using ravel().\n",
            "  y = column_or_1d(y, warn=True)\n"
          ],
          "name": "stderr"
        }
      ]
    },
    {
      "cell_type": "code",
      "metadata": {
        "colab": {
          "base_uri": "https://localhost:8080/"
        },
        "id": "PacLdzEO1QM6",
        "outputId": "e3c005f6-430f-4a50-8117-b351c032d142"
      },
      "source": [
        "print('Search Bar: ', end='')\r\n",
        "query1 = input()\r\n",
        "#Getting top 5 query results\r\n",
        "get_review(query1, 5)"
      ],
      "execution_count": 204,
      "outputs": [
        {
          "output_type": "stream",
          "text": [
            "Search Bar: great, scary, horror game\n",
            "Result: ['Recommended']\n",
            "\n",
            "Score: 0.786400408309865\n",
            "Game: dead by daylight\n",
            "Review: ['great game but not very scary']\n",
            "\n",
            "Score: 0.5823174762123728\n",
            "Game: dead by daylight\n",
            "Review: ['great survival horror game.']\n",
            "\n",
            "Score: 0.4746095050393541\n",
            "Game: dead by daylight\n",
            "Review: ['very atmospheric great horror game!']\n",
            "\n",
            "Score: 0.4280252653342213\n",
            "Game: dead by daylight\n",
            "Review: ['awesome game!can be pretty damn scary!']\n",
            "\n",
            "Score: 0.4109773211925436\n",
            "Game: subnautica\n",
            "Review: ['love this game but its scary as hell lol']\n",
            "\n"
          ],
          "name": "stdout"
        },
        {
          "output_type": "stream",
          "text": [
            "/usr/local/lib/python3.6/dist-packages/sklearn/preprocessing/_label.py:289: DataConversionWarning: A column-vector y was passed when a 1d array was expected. Please change the shape of y to (n_samples, ), for example using ravel().\n",
            "  y = column_or_1d(y, warn=True)\n"
          ],
          "name": "stderr"
        }
      ]
    },
    {
      "cell_type": "code",
      "metadata": {
        "colab": {
          "base_uri": "https://localhost:8080/"
        },
        "id": "3F3ld-5o1T2z",
        "outputId": "10318e61-acf8-4f37-9ee5-8b6259c0767b"
      },
      "source": [
        "print('Search Bar: ', end='')\r\n",
        "query1 = input()\r\n",
        "#Getting top 5 query results\r\n",
        "get_review(query1, 5)"
      ],
      "execution_count": 205,
      "outputs": [
        {
          "output_type": "stream",
          "text": [
            "Search Bar: game is buggy, i want a refund\n",
            "Result: ['Not Recommended']\n",
            "\n",
            "Score: 0.5349176615182227\n",
            "Game: playerunknown's battlegrounds\n",
            "Review: ['fix your buggy game.']\n",
            "\n",
            "Score: 0.4977895244877499\n",
            "Game: rust\n",
            "Review: ['2014 rust had a better community. i want that back. and i want a refund']\n",
            "\n",
            "Score: 0.40721008959472976\n",
            "Game: garry's mod\n",
            "Review: ['after having played almost 1000 hours on this game i think i will refund it.10/10']\n",
            "\n",
            "Score: 0.4070731599578599\n",
            "Game: dead by daylight\n",
            "Review: ['refund button is work']\n",
            "\n",
            "Score: 0.39703931230006334\n",
            "Game: playerunknown's battlegrounds\n",
            "Review: ['this game is enjoyable when ur game is not buggy but unfortunately its very buggy and i cant evn open the game now']\n",
            "\n"
          ],
          "name": "stdout"
        },
        {
          "output_type": "stream",
          "text": [
            "/usr/local/lib/python3.6/dist-packages/sklearn/preprocessing/_label.py:289: DataConversionWarning: A column-vector y was passed when a 1d array was expected. Please change the shape of y to (n_samples, ), for example using ravel().\n",
            "  y = column_or_1d(y, warn=True)\n"
          ],
          "name": "stderr"
        }
      ]
    },
    {
      "cell_type": "code",
      "metadata": {
        "colab": {
          "base_uri": "https://localhost:8080/"
        },
        "id": "-cHoMZyJ1WwZ",
        "outputId": "72884804-15bd-47b6-ea9c-fa6219433174"
      },
      "source": [
        "print('Search Bar: ', end='')\r\n",
        "query1 = input()\r\n",
        "#Getting top 5 query results\r\n",
        "get_review(query1, 5)"
      ],
      "execution_count": 206,
      "outputs": [
        {
          "output_type": "stream",
          "text": [
            "Search Bar: so many cheater and hacker\n",
            "Result: ['Not Recommended']\n",
            "\n",
            "Score: 0.6245795530826804\n",
            "Game: playerunknown's battlegrounds\n",
            "Review: ['there are too many cheaters']\n",
            "\n",
            "Score: 0.6245795530826804\n",
            "Game: playerunknown's battlegrounds\n",
            "Review: ['why so many cheater?????']\n",
            "\n",
            "Score: 0.5682628894409596\n",
            "Game: rust\n",
            "Review: ['too many hackers']\n",
            "\n",
            "Score: 0.5230399699911117\n",
            "Game: playerunknown's battlegrounds\n",
            "Review: ['cheater']\n",
            "\n",
            "Score: 0.45463075365035344\n",
            "Game: playerunknown's battlegrounds\n",
            "Review: [\"don't buy this game! there are so many cheaters in this game right now and it's me off.\"]\n",
            "\n"
          ],
          "name": "stdout"
        },
        {
          "output_type": "stream",
          "text": [
            "/usr/local/lib/python3.6/dist-packages/sklearn/preprocessing/_label.py:289: DataConversionWarning: A column-vector y was passed when a 1d array was expected. Please change the shape of y to (n_samples, ), for example using ravel().\n",
            "  y = column_or_1d(y, warn=True)\n"
          ],
          "name": "stderr"
        }
      ]
    }
  ]
}